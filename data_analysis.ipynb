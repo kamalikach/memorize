{
 "cells": [
  {
   "cell_type": "code",
   "execution_count": 7,
   "id": "7d1eacae-6208-46d9-8071-0973d5dc9f07",
   "metadata": {},
   "outputs": [],
   "source": [
    "import torch\n",
    "from itertools import product\n",
    "import importlib\n",
    "from utils import *\n",
    "\n",
    "dataset_name = 'SVHN'\n",
    "directory = './data/SVHN0.1_10000/'\n",
    "model = 'VGG'\n",
    "K = 500\n",
    "\n"
   ]
  },
  {
   "cell_type": "code",
   "execution_count": 8,
   "id": "44cfe9fd-0d46-4cb4-8eb5-e99e807275f3",
   "metadata": {},
   "outputs": [
    {
     "name": "stdout",
     "output_type": "stream",
     "text": [
      "Using downloaded and verified file: ./data/train_32x32.mat\n",
      "Using downloaded and verified file: ./data/train_32x32.mat\n",
      "Using downloaded and verified file: ./data/test_32x32.mat\n",
      "==========================\n",
      "Bayes : 403\n",
      "f(S-x): 338\n",
      "f(S  ): 479\n",
      "[True, True, True] 324\n",
      "[True, True, False] 1\n",
      "[True, False, True] 76\n",
      "[True, False, False] 2\n",
      "[False, True, True] 12\n",
      "[False, True, False] 1\n",
      "[False, False, True] 67\n",
      "[False, False, False] 17\n",
      "==========================\n",
      "Bayes : 448\n",
      "f(S-x): 338\n",
      "f(S  ): 479\n",
      "[True, True, True] 336\n",
      "[True, True, False] 2\n",
      "[True, False, True] 105\n",
      "[True, False, False] 5\n",
      "[False, True, True] 0\n",
      "[False, True, False] 0\n",
      "[False, False, True] 38\n",
      "[False, False, False] 14\n"
     ]
    }
   ],
   "source": [
    "combined_correct, combined_correct_real = analyze_data(dataset_name, directory, model, K)\n",
    "print('==========================')\n",
    "print_statistics(combined_correct)\n",
    "print('==========================')\n",
    "print_statistics(combined_correct_real)\n"
   ]
  },
  {
   "cell_type": "code",
   "execution_count": null,
   "id": "a126c443-abf2-4eac-a029-839bf8fcb9a7",
   "metadata": {},
   "outputs": [],
   "source": []
  },
  {
   "cell_type": "code",
   "execution_count": null,
   "id": "8bfcdb4d-770f-4047-9549-77500ff14725",
   "metadata": {},
   "outputs": [],
   "source": []
  },
  {
   "cell_type": "code",
   "execution_count": null,
   "id": "b909b62e-141b-4cf2-8586-a14b8f9160ac",
   "metadata": {},
   "outputs": [],
   "source": []
  },
  {
   "cell_type": "code",
   "execution_count": null,
   "id": "00a480e5-a98b-4d1c-ad7b-6969b146baa9",
   "metadata": {},
   "outputs": [],
   "source": []
  }
 ],
 "metadata": {
  "kernelspec": {
   "display_name": "Python 3 (ipykernel)",
   "language": "python",
   "name": "python3"
  },
  "language_info": {
   "codemirror_mode": {
    "name": "ipython",
    "version": 3
   },
   "file_extension": ".py",
   "mimetype": "text/x-python",
   "name": "python",
   "nbconvert_exporter": "python",
   "pygments_lexer": "ipython3",
   "version": "3.10.12"
  }
 },
 "nbformat": 4,
 "nbformat_minor": 5
}
